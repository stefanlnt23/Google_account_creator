{
 "cells": [
  {
   "cell_type": "code",
   "execution_count": 1,
   "metadata": {},
   "outputs": [],
   "source": [
    "import pyautogui\n",
    "import random\n",
    "import time\n",
    "from pynput.mouse import Button, Controller\n",
    "\n"
   ]
  },
  {
   "cell_type": "code",
   "execution_count": 3,
   "metadata": {},
   "outputs": [],
   "source": [
    "email_object = open('email.txt', 'r')\n",
    "email_list = email_object.readlines()\n",
    "fname_object = open('fname.txt', 'r')\n",
    "fname_list = fname_object.readlines()\n",
    "mouse = Controller()\n",
    "\n"
   ]
  },
  {
   "cell_type": "code",
   "execution_count": 33,
   "metadata": {},
   "outputs": [
    {
     "name": "stdout",
     "output_type": "stream",
     "text": [
      "not found\n"
     ]
    }
   ],
   "source": [
    "#generate new profile gplay\n",
    "pyautogui.click(2832,148)\n",
    "time.sleep(2)\n",
    "pyautogui.click(2161,426)\n",
    "pho = pyautogui.locateCenterOnScreen('new.png', confidence=0.9)\n",
    "while pho == None:\n",
    "    print('not found')\n",
    "    mouse.scroll(1,-10)\n",
    "    time.sleep(1)\n",
    "    pho = pyautogui.locateCenterOnScreen('new.png', confidence=0.9)\n",
    "\n",
    "\n",
    "else:\n",
    "    b = pyautogui.click(pho)"
   ]
  },
  {
   "cell_type": "code",
   "execution_count": 26,
   "metadata": {},
   "outputs": [],
   "source": [
    "# create account\n",
    "pyautogui.click(x=1335, y=587)\n",
    "time.sleep(2)\n",
    "pyautogui.click(x=1193,y=866)\n",
    "time.sleep(2)\n",
    "pyautogui.click(x=1181,y=987)\n",
    "time.sleep(2)\n",
    "pyautogui.click(x=1508,y=586)\n",
    "time.sleep(2)\n",
    "pyautogui.typewrite(fname_list[0])\n",
    "time.sleep(2)\n",
    "pyautogui.click(x=2274,y=933)\n",
    "# dob\n",
    "time.sleep(2)\n",
    "pyautogui.click(1204,603)\n",
    "time.sleep(2)\n",
    "pyautogui.click(1178,829)\n",
    "time.sleep(2)\n",
    "pyautogui.click(1744,590)\n",
    "time.sleep(2)\n",
    "pyautogui.typewrite('01')\n",
    "time.sleep(2)\n",
    "pyautogui.click(2110,590)\n",
    "pyautogui.typewrite('1992')\n",
    "pyautogui.click(1341,744)\n",
    "pyautogui.click(1568,520)\n",
    "time.sleep(2)\n",
    "pyautogui.click(2264,916)"
   ]
  },
  {
   "cell_type": "code",
   "execution_count": 29,
   "metadata": {},
   "outputs": [],
   "source": [
    "# chose email adress\n",
    "pyautogui.click(1277,821)\n",
    "time.sleep(2)\n",
    "pyautogui.click(1362,975)\n",
    "time.sleep(2)\n",
    "pyautogui.typewrite(email_list[2])\n",
    "time.sleep(2)\n",
    "pyautogui.click(2241,1196)"
   ]
  },
  {
   "cell_type": "code",
   "execution_count": 31,
   "metadata": {},
   "outputs": [],
   "source": [
    "# chose password\n",
    "\n",
    "pyautogui.click(1335,594)\n",
    "time.sleep(0.5)\n",
    "pyautogui.typewrite('Redakai112')\n",
    "pyautogui.click(2273,857)"
   ]
  },
  {
   "cell_type": "code",
   "execution_count": 15,
   "metadata": {},
   "outputs": [],
   "source": [
    "# scroll\n",
    "time.sleep(3)\n",
    "pyautogui.scroll(-3000)\n",
    "pyautogui.scroll(-3000)\n",
    "pyautogui.click(1079,1184)"
   ]
  },
  {
   "cell_type": "code",
   "execution_count": 21,
   "metadata": {},
   "outputs": [],
   "source": [
    "#review your acc\n",
    "time.sleep(2)\n",
    "pyautogui.click(2266,697)\n",
    "pyautogui.scroll(-3000)\n",
    "pyautogui.scroll(-3000)\n",
    "pyautogui.scroll(-3000)\n",
    "pyautogui.click(2255,1191)\n",
    "time.sleep(2)\n",
    "pyautogui.scroll(-3000)\n",
    "pyautogui.scroll(-3000)\n",
    "pyautogui.scroll(-3000)\n",
    "pyautogui.click(2262,1188)\n",
    "pyautogui.click(2262,1188)\n"
   ]
  },
  {
   "cell_type": "code",
   "execution_count": 11,
   "metadata": {},
   "outputs": [
    {
     "name": "stdout",
     "output_type": "stream",
     "text": [
      "Romualda.Masson16336759@gmail.com\n",
      "\n"
     ]
    }
   ],
   "source": [
    "# time.sleep(5)\n",
    "\n",
    "# fname_object = open('email.txt', 'r')\n",
    "# fname_list = fname_object.readlines()\n",
    "# print(fname_list[3])\n",
    "\n",
    "# pyautogui.typewrite(fname_list[3])"
   ]
  },
  {
   "cell_type": "markdown",
   "metadata": {},
   "source": []
  }
 ],
 "metadata": {
  "interpreter": {
   "hash": "ecfa487646c26d42c96953a6b2e89e74b77f05be5b07b2bb0f62f21b624b617c"
  },
  "kernelspec": {
   "display_name": "Python 3.10.4 64-bit",
   "language": "python",
   "name": "python3"
  },
  "language_info": {
   "codemirror_mode": {
    "name": "ipython",
    "version": 3
   },
   "file_extension": ".py",
   "mimetype": "text/x-python",
   "name": "python",
   "nbconvert_exporter": "python",
   "pygments_lexer": "ipython3",
   "version": "3.10.4"
  },
  "orig_nbformat": 4
 },
 "nbformat": 4,
 "nbformat_minor": 2
}
